{
 "cells": [
  {
   "cell_type": "code",
   "execution_count": null,
   "id": "411a752f",
   "metadata": {},
   "outputs": [
    {
     "name": "stdout",
     "output_type": "stream",
     "text": [
      "Requirement already satisfied: transformers in /Users/impana/anaconda3/envs/quotechecker/lib/python3.9/site-packages (4.51.3)\n",
      "Requirement already satisfied: filelock in /Users/impana/anaconda3/envs/quotechecker/lib/python3.9/site-packages (from transformers) (3.18.0)\n",
      "Requirement already satisfied: huggingface-hub<1.0,>=0.30.0 in /Users/impana/anaconda3/envs/quotechecker/lib/python3.9/site-packages (from transformers) (0.30.2)\n",
      "Requirement already satisfied: numpy>=1.17 in /Users/impana/anaconda3/envs/quotechecker/lib/python3.9/site-packages (from transformers) (2.0.2)\n",
      "Requirement already satisfied: packaging>=20.0 in /Users/impana/anaconda3/envs/quotechecker/lib/python3.9/site-packages (from transformers) (25.0)\n",
      "Requirement already satisfied: pyyaml>=5.1 in /Users/impana/anaconda3/envs/quotechecker/lib/python3.9/site-packages (from transformers) (6.0.2)\n",
      "Requirement already satisfied: regex!=2019.12.17 in /Users/impana/anaconda3/envs/quotechecker/lib/python3.9/site-packages (from transformers) (2024.11.6)\n",
      "Requirement already satisfied: requests in /Users/impana/anaconda3/envs/quotechecker/lib/python3.9/site-packages (from transformers) (2.32.3)\n",
      "Requirement already satisfied: tokenizers<0.22,>=0.21 in /Users/impana/anaconda3/envs/quotechecker/lib/python3.9/site-packages (from transformers) (0.21.1)\n",
      "Requirement already satisfied: safetensors>=0.4.3 in /Users/impana/anaconda3/envs/quotechecker/lib/python3.9/site-packages (from transformers) (0.5.3)\n",
      "Requirement already satisfied: tqdm>=4.27 in /Users/impana/anaconda3/envs/quotechecker/lib/python3.9/site-packages (from transformers) (4.67.1)\n",
      "Requirement already satisfied: fsspec>=2023.5.0 in /Users/impana/anaconda3/envs/quotechecker/lib/python3.9/site-packages (from huggingface-hub<1.0,>=0.30.0->transformers) (2025.3.2)\n",
      "Requirement already satisfied: typing-extensions>=3.7.4.3 in /Users/impana/anaconda3/envs/quotechecker/lib/python3.9/site-packages (from huggingface-hub<1.0,>=0.30.0->transformers) (4.13.2)\n",
      "Requirement already satisfied: charset-normalizer<4,>=2 in /Users/impana/anaconda3/envs/quotechecker/lib/python3.9/site-packages (from requests->transformers) (3.4.2)\n",
      "Requirement already satisfied: idna<4,>=2.5 in /Users/impana/anaconda3/envs/quotechecker/lib/python3.9/site-packages (from requests->transformers) (3.10)\n",
      "Requirement already satisfied: urllib3<3,>=1.21.1 in /Users/impana/anaconda3/envs/quotechecker/lib/python3.9/site-packages (from requests->transformers) (2.4.0)\n",
      "Requirement already satisfied: certifi>=2017.4.17 in /Users/impana/anaconda3/envs/quotechecker/lib/python3.9/site-packages (from requests->transformers) (2025.4.26)\n"
     ]
    }
   ],
   "source": [
    "%pip install transformers"
   ]
  },
  {
   "cell_type": "code",
   "execution_count": null,
   "id": "c86ba9ab",
   "metadata": {},
   "outputs": [
    {
     "name": "stdout",
     "output_type": "stream",
     "text": [
      "Requirement already satisfied: torch in /Users/impana/anaconda3/envs/quotechecker/lib/python3.9/site-packages (2.7.0)\n",
      "Requirement already satisfied: filelock in /Users/impana/anaconda3/envs/quotechecker/lib/python3.9/site-packages (from torch) (3.18.0)\n",
      "Requirement already satisfied: typing-extensions>=4.10.0 in /Users/impana/anaconda3/envs/quotechecker/lib/python3.9/site-packages (from torch) (4.13.2)\n",
      "Requirement already satisfied: sympy>=1.13.3 in /Users/impana/anaconda3/envs/quotechecker/lib/python3.9/site-packages (from torch) (1.14.0)\n",
      "Requirement already satisfied: networkx in /Users/impana/anaconda3/envs/quotechecker/lib/python3.9/site-packages (from torch) (3.2.1)\n",
      "Requirement already satisfied: jinja2 in /Users/impana/anaconda3/envs/quotechecker/lib/python3.9/site-packages (from torch) (3.1.6)\n",
      "Requirement already satisfied: fsspec in /Users/impana/anaconda3/envs/quotechecker/lib/python3.9/site-packages (from torch) (2025.3.2)\n",
      "Requirement already satisfied: mpmath<1.4,>=1.1.0 in /Users/impana/anaconda3/envs/quotechecker/lib/python3.9/site-packages (from sympy>=1.13.3->torch) (1.3.0)\n",
      "Requirement already satisfied: MarkupSafe>=2.0 in /Users/impana/anaconda3/envs/quotechecker/lib/python3.9/site-packages (from jinja2->torch) (3.0.2)\n"
     ]
    }
   ],
   "source": [
    "%pip install torch"
   ]
  },
  {
   "cell_type": "code",
   "execution_count": null,
   "id": "ca27bbdb",
   "metadata": {},
   "outputs": [
    {
     "name": "stdout",
     "output_type": "stream",
     "text": [
      "Collecting hf_xet\n",
      "  Downloading hf_xet-1.1.0-cp37-abi3-macosx_11_0_arm64.whl.metadata (494 bytes)\n",
      "Downloading hf_xet-1.1.0-cp37-abi3-macosx_11_0_arm64.whl (4.9 MB)\n",
      "\u001b[2K   \u001b[90m━━━━━━━━━━━━━━━━━━━━━━━━━━━━━━━━━━━━━━━━\u001b[0m \u001b[32m4.9/4.9 MB\u001b[0m \u001b[31m2.9 MB/s\u001b[0m eta \u001b[36m0:00:00\u001b[0ma \u001b[36m0:00:01\u001b[0m\n",
      "\u001b[?25hInstalling collected packages: hf_xet\n",
      "Successfully installed hf_xet-1.1.0\n"
     ]
    }
   ],
   "source": [
    "%pip install hf_xet"
   ]
  },
  {
   "cell_type": "code",
   "execution_count": 39,
   "id": "8ded3280",
   "metadata": {},
   "outputs": [],
   "source": [
    "from transformers import AutoTokenizer, AutoModelForSequenceClassification, AutoModelForSeq2SeqLM\n",
    "import torch\n",
    "import torch.nn.functional as F\n",
    "import re\n",
    "from transformers import pipeline\n",
    "\n",
    "device = torch.device(\"mps\" if torch.backends.mps.is_available() else \"cpu\")"
   ]
  },
  {
   "cell_type": "code",
   "execution_count": 26,
   "id": "a89e6906",
   "metadata": {},
   "outputs": [
    {
     "name": "stderr",
     "output_type": "stream",
     "text": [
      "Some weights of the model checkpoint at roberta-large-mnli were not used when initializing RobertaForSequenceClassification: ['roberta.pooler.dense.bias', 'roberta.pooler.dense.weight']\n",
      "- This IS expected if you are initializing RobertaForSequenceClassification from the checkpoint of a model trained on another task or with another architecture (e.g. initializing a BertForSequenceClassification model from a BertForPreTraining model).\n",
      "- This IS NOT expected if you are initializing RobertaForSequenceClassification from the checkpoint of a model that you expect to be exactly identical (initializing a BertForSequenceClassification model from a BertForSequenceClassification model).\n"
     ]
    },
    {
     "data": {
      "text/plain": [
       "RobertaForSequenceClassification(\n",
       "  (roberta): RobertaModel(\n",
       "    (embeddings): RobertaEmbeddings(\n",
       "      (word_embeddings): Embedding(50265, 1024, padding_idx=1)\n",
       "      (position_embeddings): Embedding(514, 1024, padding_idx=1)\n",
       "      (token_type_embeddings): Embedding(1, 1024)\n",
       "      (LayerNorm): LayerNorm((1024,), eps=1e-05, elementwise_affine=True)\n",
       "      (dropout): Dropout(p=0.1, inplace=False)\n",
       "    )\n",
       "    (encoder): RobertaEncoder(\n",
       "      (layer): ModuleList(\n",
       "        (0-23): 24 x RobertaLayer(\n",
       "          (attention): RobertaAttention(\n",
       "            (self): RobertaSdpaSelfAttention(\n",
       "              (query): Linear(in_features=1024, out_features=1024, bias=True)\n",
       "              (key): Linear(in_features=1024, out_features=1024, bias=True)\n",
       "              (value): Linear(in_features=1024, out_features=1024, bias=True)\n",
       "              (dropout): Dropout(p=0.1, inplace=False)\n",
       "            )\n",
       "            (output): RobertaSelfOutput(\n",
       "              (dense): Linear(in_features=1024, out_features=1024, bias=True)\n",
       "              (LayerNorm): LayerNorm((1024,), eps=1e-05, elementwise_affine=True)\n",
       "              (dropout): Dropout(p=0.1, inplace=False)\n",
       "            )\n",
       "          )\n",
       "          (intermediate): RobertaIntermediate(\n",
       "            (dense): Linear(in_features=1024, out_features=4096, bias=True)\n",
       "            (intermediate_act_fn): GELUActivation()\n",
       "          )\n",
       "          (output): RobertaOutput(\n",
       "            (dense): Linear(in_features=4096, out_features=1024, bias=True)\n",
       "            (LayerNorm): LayerNorm((1024,), eps=1e-05, elementwise_affine=True)\n",
       "            (dropout): Dropout(p=0.1, inplace=False)\n",
       "          )\n",
       "        )\n",
       "      )\n",
       "    )\n",
       "  )\n",
       "  (classifier): RobertaClassificationHead(\n",
       "    (dense): Linear(in_features=1024, out_features=1024, bias=True)\n",
       "    (dropout): Dropout(p=0.1, inplace=False)\n",
       "    (out_proj): Linear(in_features=1024, out_features=3, bias=True)\n",
       "  )\n",
       ")"
      ]
     },
     "execution_count": 26,
     "metadata": {},
     "output_type": "execute_result"
    }
   ],
   "source": [
    "nli_model_name = \"roberta-large-mnli\"\n",
    "nli_tokenizer = AutoTokenizer.from_pretrained(nli_model_name)\n",
    "nli_model = AutoModelForSequenceClassification.from_pretrained(nli_model_name).to(device)\n",
    "nli_model.eval()"
   ]
  },
  {
   "cell_type": "code",
   "execution_count": 27,
   "id": "0adda029",
   "metadata": {},
   "outputs": [],
   "source": [
    "def does_passage_support_quote(quote, passage):\n",
    "    inputs = nli_tokenizer(passage, quote, return_tensors=\"pt\", truncation=True).to(device)\n",
    "    with torch.no_grad():\n",
    "        logits = nli_model(**inputs).logits\n",
    "        probs = F.softmax(logits, dim=1)\n",
    "\n",
    "    support_prob = probs[0][2].item()\n",
    "    contradict_prob = probs[0][0].item()\n",
    "    unclear_prob = probs[0][1].item()\n",
    "\n",
    "    print(f\"Supports: {support_prob:.2f}, Unclear: {unclear_prob:.2f}, Contradicts: {contradict_prob:.2f}\")\n",
    "\n",
    "    if support_prob > contradict_prob:\n",
    "        return \"supports\"\n",
    "    else:\n",
    "        return \"contradicts\""
   ]
  },
  {
   "cell_type": "code",
   "execution_count": 40,
   "id": "c8a390ad",
   "metadata": {},
   "outputs": [
    {
     "name": "stderr",
     "output_type": "stream",
     "text": [
      "Device set to use mps:0\n"
     ]
    }
   ],
   "source": [
    "qa_pipeline = pipeline(\"question-answering\", model=\"distilbert-base-cased-distilled-squad\")\n",
    "\n",
    "def extract_relevant_quote(claim, passage, label):\n",
    "    if label.lower() == \"supports\":\n",
    "        question = f\"What sentence in the passage supports the claim: {claim}\"\n",
    "    elif label.lower() == \"contradicts\":\n",
    "        question = f\"What sentence in the passage contradicts the claim: {claim}\"\n",
    "    else:\n",
    "        return \"No supporting or contradicting quote found.\"\n",
    "\n",
    "    result = qa_pipeline(question=question, context=passage)\n",
    "    answer = result[\"answer\"]\n",
    "\n",
    "    sentences = re.split(r'(?<=[.!?]) +', passage)\n",
    "    for sentence in sentences:\n",
    "        if answer.strip() in sentence:\n",
    "            return sentence.strip()\n",
    "\n",
    "    return answer"
   ]
  },
  {
   "cell_type": "code",
   "execution_count": null,
   "id": "a9b5ffa4",
   "metadata": {},
   "outputs": [],
   "source": [
    "# quote = \"Climate change is caused by human activities.\"\n",
    "# passage = (\n",
    "#     \"Climate scientists have gathered overwhelming evidence that human activities, \"\n",
    "#     \"particularly the burning of fossil fuels like coal, oil, and gas, are the primary drivers of recent climate change. \"\n",
    "#     \"The resulting increase in greenhouse gases, such as carbon dioxide and methane, has led to a warming of the Earth's atmosphere, \"\n",
    "#     \"oceans, and land surfaces. Numerous studies conducted over the past decades consistently link industrial emissions to rising \"\n",
    "#     \"global temperatures, melting ice caps, more frequent extreme weather events, and sea-level rise. In 2021, the Intergovernmental \"\n",
    "#     \"Panel on Climate Change (IPCC) declared that it is 'unequivocal' that human influence has warmed the atmosphere, ocean, and land. \"\n",
    "#     \"These findings are based on a combination of observational data, climate modeling, and attribution studies.\"\n",
    "# )\n",
    "\n",
    "# relation = does_passage_support_quote(quote, passage)\n",
    "# print(f\"\\nRelation: {relation}\")\n",
    "\n",
    "# if relation in [\"supports\", \"contradicts\"]:\n",
    "#     extracted_quote = extract_relevant_quote(quote, passage, relation)\n",
    "#     print(f\"\\nExtracted {relation} quote:\\n{extracted_quote}\")\n",
    "# else:\n",
    "#     print(\"\\nNo clear support or contradiction; skipping quote extraction.\")"
   ]
  },
  {
   "cell_type": "code",
   "execution_count": null,
   "id": "93bf3a5f",
   "metadata": {},
   "outputs": [],
   "source": [
    "quote = input_text\n",
    "passage = (\n",
    "    \"Climate scientists have gathered overwhelming evidence that human activities, \"\n",
    "    \"particularly the burning of fossil fuels like coal, oil, and gas, are the primary drivers of recent climate change. \"\n",
    "    \"The resulting increase in greenhouse gases, such as carbon dioxide and methane, has led to a warming of the Earth's atmosphere, \"\n",
    "    \"oceans, and land surfaces. Numerous studies conducted over the past decades consistently link industrial emissions to rising \"\n",
    "    \"global temperatures, melting ice caps, more frequent extreme weather events, and sea-level rise. In 2021, the Intergovernmental \"\n",
    "    \"Panel on Climate Change (IPCC) declared that it is 'unequivocal' that human influence has warmed the atmosphere, ocean, and land. \"\n",
    "    \"These findings are based on a combination of observational data, climate modeling, and attribution studies.\"\n",
    ")\n",
    "\n",
    "relation = does_passage_support_quote(quote, passage)\n",
    "print(f\"\\nRelation: {relation}\")\n",
    "\n",
    "if relation in [\"supports\", \"contradicts\"]:\n",
    "    extracted_quote = extract_relevant_quote(quote, passage, relation)\n",
    "    print(f\"\\nExtracted {relation} quote:\\n{extracted_quote}\")\n",
    "else:\n",
    "    print(\"\\nNo clear support or contradiction; skipping quote extraction.\")"
   ]
  }
 ],
 "metadata": {
  "kernelspec": {
   "display_name": "quotechecker",
   "language": "python",
   "name": "python3"
  },
  "language_info": {
   "codemirror_mode": {
    "name": "ipython",
    "version": 3
   },
   "file_extension": ".py",
   "mimetype": "text/x-python",
   "name": "python",
   "nbconvert_exporter": "python",
   "pygments_lexer": "ipython3",
   "version": "3.9.21"
  }
 },
 "nbformat": 4,
 "nbformat_minor": 5
}
